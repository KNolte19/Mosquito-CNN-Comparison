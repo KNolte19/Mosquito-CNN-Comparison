{
 "cells": [
  {
   "cell_type": "code",
   "execution_count": 1,
   "id": "954a89b0-9a2b-4b31-83fe-b6f059f3cb1a",
   "metadata": {},
   "outputs": [],
   "source": [
    "import os\n",
    "\n",
    "import pandas as pd\n",
    "import numpy as np\n",
    "import seaborn as sb\n",
    "\n",
    "import sklearn.metrics as skm\n",
    "import matplotlib.pyplot as plt\n",
    "import tensorflow as tf"
   ]
  },
  {
   "cell_type": "code",
   "execution_count": 2,
   "id": "43378b94-8e74-4102-adaf-ca24761a2a87",
   "metadata": {},
   "outputs": [],
   "source": [
    "def find_files_with_extension(directory, extension):\n",
    "    # List to store the full paths of the files\n",
    "    file_path_ls = []\n",
    "    \n",
    "    # Walk through the directory\n",
    "    for dirpath, dirnames, filenames in os.walk(directory):\n",
    "        # Iterate over each file in the current directory\n",
    "        for filename in filenames:\n",
    "            # Check if the file ends with the given extension\n",
    "            if filename.endswith(extension):\n",
    "                # Construct the full path of the file\n",
    "                full_path = os.path.join(dirpath, filename)\n",
    "                # Append the full path to the list\n",
    "                file_path_ls.append(full_path)\n",
    "\n",
    "    return file_path_ls"
   ]
  },
  {
   "cell_type": "code",
   "execution_count": 3,
   "id": "83ffe28c-37a2-497d-ab49-ee70e701bf8f",
   "metadata": {},
   "outputs": [],
   "source": [
    "def find_corrupted_images(path_ls):\n",
    "    def getImage(path):\n",
    "        # Load the raw data from the file as a string\n",
    "        img = tf.io.read_file(path)\n",
    "        # Convert the compressed string to a 3D uint8 tensor\n",
    "        img = tf.io.decode_png(img, channels=3)\n",
    "\n",
    "    for path in path_ls:\n",
    "        if path.endswith(\".png\"):\n",
    "            try:\n",
    "                getImage(path)\n",
    "            except: \n",
    "                print(path)\n",
    "\n",
    "DIR_PATH = \"/Users/kristophernolte/Library/CloudStorage/GoogleDrive-kristophernolte.haw@gmail.com/My Drive/PhD/WingDatabase/DepictionDataset\"\n",
    "#find_corrupted_images(find_files_with_extension(DIR_PATH, \"\"))\n",
    "#body-JAb19_6712.png"
   ]
  },
  {
   "cell_type": "markdown",
   "id": "019e3e19-5a99-4a3b-a565-d7991e9e8cd1",
   "metadata": {},
   "source": [
    "## Full Dataset Description"
   ]
  },
  {
   "cell_type": "code",
   "execution_count": 4,
   "id": "6a1484d2-6701-4d18-901f-2e6817c822db",
   "metadata": {},
   "outputs": [],
   "source": [
    "DIR_PATH = \"/Users/kristophernolte/Library/CloudStorage/GoogleDrive-kristophernolte.haw@gmail.com/My Drive/PhD/WingDatabase/DepictionComparisonStudy\"\n",
    "file_path_ls = find_files_with_extension(DIR_PATH, \".png\")\n",
    "file_ls = [[path.split(os.sep)[-4],\n",
    "            path.split(os.sep)[-3],\n",
    "            path.split(os.sep)[-2],\n",
    "            path.split(os.sep)[-1],\n",
    "            path.split(os.sep)[-1].split(\"_\")[0]] for path in file_path_ls]\n",
    "df = pd.DataFrame(file_ls, columns=[\"Depiction\", \"Datasplit\", \"Species\", \"File_Name\", \"Device\"])\n",
    "df = df.groupby([\"Depiction\", \"Datasplit\", \"Device\",])[\"Species\"].value_counts().reset_index()\n",
    "df = df.pivot_table(index=[\"Depiction\", \"Datasplit\", \"Device\"], columns='Species', aggfunc='first').reset_index()\n",
    "df.sort_values([\"Depiction\", \"Datasplit\", \"Device\"]).to_clipboard()"
   ]
  },
  {
   "cell_type": "code",
   "execution_count": 5,
   "id": "9e8b8317-6d3b-4593-b29c-c929f48d8531",
   "metadata": {},
   "outputs": [
    {
     "data": {
      "text/plain": [
       "Series([], Name: File_Name, dtype: int64)"
      ]
     },
     "execution_count": 5,
     "metadata": {},
     "output_type": "execute_result"
    }
   ],
   "source": [
    "df = pd.DataFrame(file_ls, columns=[\"Depiction\", \"Datasplit\", \"Species\", \"File_Name\", \"Device\"])\n",
    "df.groupby([\"Depiction\",\"Datasplit\"])[\"File_Name\"].count()"
   ]
  },
  {
   "cell_type": "markdown",
   "id": "57df38e0-381b-4147-ac86-6745a8324d38",
   "metadata": {},
   "source": [
    "## Device-Dataset-Description"
   ]
  },
  {
   "cell_type": "code",
   "execution_count": 25,
   "id": "a60380e8-5ff9-4860-b616-acaa823d1a2d",
   "metadata": {},
   "outputs": [],
   "source": [
    "DIR_PATH = \"/Users/kristophernolte/Documents/phd_comparison/datasets/train_ready/DepictionDataset/\"\n",
    "file_path_ls = find_files_with_extension(DIR_PATH, \".png\")\n",
    "file_ls = [[path.split(os.sep)[-4],\n",
    "            path.split(os.sep)[-3],\n",
    "            path.split(os.sep)[-2],\n",
    "            path.split(os.sep)[-1],\n",
    "            path.split(os.sep)[-1].split(\"_\")[0]] for path in file_path_ls]\n",
    "\n",
    "df = pd.DataFrame(file_ls, columns=[\"Depiction\", \"Datasplit\", \"Species\", \"File_Name\", \"Device\"])\n",
    "#df = df.groupby([\"Depiction\", \"Datasplit\", \"Device\",])[\"Species\"].value_counts().reset_index()\n",
    "#df = df.pivot_table(index=[\"Depiction\", \"Datasplit\", \"Device\"], columns='Species', aggfunc='first').reset_index()\n",
    "#df.sort_values([\"Depiction\", \"Datasplit\", \"Device\"]).to_clipboard()"
   ]
  },
  {
   "cell_type": "code",
   "execution_count": 27,
   "id": "df611c18-eeb6-464d-bc0c-253d2b85b528",
   "metadata": {},
   "outputs": [
    {
     "data": {
      "text/plain": [
       "Depiction  Species\n",
       "body       AE         200\n",
       "           AL         199\n",
       "           JA         200\n",
       "           KO         198\n",
       "wing       AE         199\n",
       "           AL         199\n",
       "           JA         200\n",
       "           KO         199\n",
       "Name: ID, dtype: int64"
      ]
     },
     "execution_count": 27,
     "metadata": {},
     "output_type": "execute_result"
    }
   ],
   "source": [
    "df[\"ID\"] = [x.split(\"_\")[1] for x in df[\"File_Name\"]]\n",
    "df.groupby([\"Depiction\", \"Species\"])[\"ID\"].nunique()"
   ]
  },
  {
   "cell_type": "code",
   "execution_count": 15,
   "id": "af5410cc-cb2f-4cac-b9f9-d0586aa149a9",
   "metadata": {},
   "outputs": [
    {
     "data": {
      "text/plain": [
       "597"
      ]
     },
     "execution_count": 15,
     "metadata": {},
     "output_type": "execute_result"
    }
   ],
   "source": [
    "398+30+139+30"
   ]
  },
  {
   "cell_type": "code",
   "execution_count": null,
   "id": "4afaf5f6-2bce-4e22-9b8a-bf3e5a296a47",
   "metadata": {},
   "outputs": [],
   "source": []
  }
 ],
 "metadata": {
  "kernelspec": {
   "display_name": "venv-metal",
   "language": "python",
   "name": "venv-metal"
  },
  "language_info": {
   "codemirror_mode": {
    "name": "ipython",
    "version": 3
   },
   "file_extension": ".py",
   "mimetype": "text/x-python",
   "name": "python",
   "nbconvert_exporter": "python",
   "pygments_lexer": "ipython3",
   "version": "3.10.12"
  }
 },
 "nbformat": 4,
 "nbformat_minor": 5
}
