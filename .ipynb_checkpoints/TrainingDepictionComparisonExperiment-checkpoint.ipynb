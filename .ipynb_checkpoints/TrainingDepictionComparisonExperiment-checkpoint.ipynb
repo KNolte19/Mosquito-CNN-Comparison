{
 "cells": [
  {
   "cell_type": "code",
   "execution_count": 2,
   "metadata": {
    "colab": {
     "base_uri": "https://localhost:8080/"
    },
    "executionInfo": {
     "elapsed": 5600,
     "status": "ok",
     "timestamp": 1713263645762,
     "user": {
      "displayName": "Kristopher Nolte",
      "userId": "15304813975192665624"
     },
     "user_tz": -120
    },
    "id": "1WNnQSTrXrf1",
    "outputId": "f8fa47e1-e648-4ef3-98d3-c366a0f3ed68"
   },
   "outputs": [
    {
     "name": "stdout",
     "output_type": "stream",
     "text": [
      "Using TensorFlow backend\n"
     ]
    }
   ],
   "source": [
    "import tensorflow as tf\n",
    "import pandas as pd\n",
    "import numpy as np\n",
    "import matplotlib.pyplot as plt\n",
    "import random\n",
    "import keras_cv\n",
    "import wandb\n",
    "import os\n",
    "\n",
    "from datetime import datetime\n",
    "from google.colab.patches import cv2_imshow\n",
    "from wandb.keras import WandbMetricsLogger\n",
    "\n",
    "wandb.login()"
   ]
  },
  {
   "cell_type": "markdown",
   "metadata": {},
   "source": [
    "## Mount Drive"
   ]
  },
  {
   "cell_type": "code",
   "execution_count": 5,
   "metadata": {
    "colab": {
     "base_uri": "https://localhost:8080/"
    },
    "executionInfo": {
     "elapsed": 1498,
     "status": "ok",
     "timestamp": 1713263649065,
     "user": {
      "displayName": "Kristopher Nolte",
      "userId": "15304813975192665624"
     },
     "user_tz": -120
    },
    "id": "xMXjR1ch7YQC",
    "outputId": "7f996ad1-ea1f-46c5-cf79-5431e19bec19"
   },
   "outputs": [
    {
     "name": "stdout",
     "output_type": "stream",
     "text": [
      "Drive already mounted at /content/drive; to attempt to forcibly remount, call drive.mount(\"/content/drive\", force_remount=True).\n"
     ]
    }
   ],
   "source": [
    "from google.colab import drive\n",
    "drive.mount('/content/drive')\n",
    "\n",
    "species_list = ['AE', 'AL', \"JA\", 'KO']\n",
    "\n",
    "# on CoLab\n",
    "DIR_PATH = \"/content/drive/MyDrive/PhD/WingDatabase/DepictionDataset/{}\".format(DEPICTION)\n",
    "SAVE_DIR = \"/content/drive/MyDrive/PhD/WingComparisonStudy/models\""
   ]
  },
  {
   "cell_type": "markdown",
   "metadata": {
    "id": "odEFldBWcSvW"
   },
   "source": [
    "## Define Hyperparameters"
   ]
  },
  {
   "cell_type": "code",
   "execution_count": 6,
   "metadata": {
    "executionInfo": {
     "elapsed": 373,
     "status": "ok",
     "timestamp": 1713263649431,
     "user": {
      "displayName": "Kristopher Nolte",
      "userId": "15304813975192665624"
     },
     "user_tz": -120
    },
    "id": "BJZNHpI8aNzM"
   },
   "outputs": [],
   "source": [
    "# 3 Rings for the Elven-kings under the sky,\n",
    "# 7 for the Dwarf-lords in their halls of stone,\n",
    "# 9 for Mortal Men, doomed to die,\n",
    "# 1 for the Dark Lord on his dark throne\n",
    "\n",
    "SEED = 1\n",
    "DEPICTION = \"body\"\n",
    "\n",
    "IMG_SIZE = 300\n",
    "BATCH_SIZE = 16\n",
    "LEARNING_RATE_TRANSFER = 5e-4\n",
    "LEARNING_RATE_TUNING = 1e-5\n",
    "MAX_EPOCHS_TRANSFER = 24\n",
    "MAX_EPOCHS_TUNING = 64\n",
    "EARLY_STOP_PATIENCE = 12\n",
    "STEPS_PER_EPOCH = 81\n",
    "COSINE_DECAY_STEPS = STEPS_PER_EPOCH * MAX_EPOCHS_TUNING\n",
    "DROPOUT = 0.5\n",
    "\n",
    "AUG_LAYER = 3\n",
    "AUG_MAGNITUDE = .05\n",
    "AUG_ROTATTION = .05\n",
    "AUG_TRANSLATION = .05\n",
    "AUG_SHARPNESS = .25\n",
    "AUG_COLORDEGEN = .25\n",
    "AUG_NOISE = .1"
   ]
  },
  {
   "cell_type": "markdown",
   "metadata": {
    "id": "XG5UQ2yzcQy8"
   },
   "source": [
    "## Load Dataset"
   ]
  },
  {
   "cell_type": "code",
   "execution_count": 7,
   "metadata": {
    "executionInfo": {
     "elapsed": 2047,
     "status": "ok",
     "timestamp": 1713263651472,
     "user": {
      "displayName": "Kristopher Nolte",
      "userId": "15304813975192665624"
     },
     "user_tz": -120
    },
    "id": "wwrZnUk9gCck"
   },
   "outputs": [],
   "source": [
    "def create_dict(data_split):\n",
    "    # get a list of image paths defined by the target list\n",
    "    image_path_dict = {}\n",
    "    for species in species_list:\n",
    "        path = DIR_PATH + \"/{}/{}/*.png\".format(data_split, species)\n",
    "        image_path_dict[species] = tf.data.Dataset.list_files(path,  shuffle=True, seed=SEED)\n",
    "\n",
    "    return image_path_dict\n",
    "\n",
    "def combine_dict(dataset_dict):\n",
    "  # combine all target_dicts together\n",
    "  for i,key in enumerate(dataset_dict.keys()):\n",
    "    if i == 0:\n",
    "        image_path_ds = dataset_dict[key]\n",
    "    else:\n",
    "        image_path_ds = image_path_ds.concatenate(dataset_dict[key])\n",
    "\n",
    "  return image_path_ds.shuffle(buffer_size=image_path_ds.cardinality())\n",
    "\n",
    "# create dicts with species as key and tf.ShuffleDataset containing paths as values\n",
    "train_path_dict = create_dict(\"train\")\n",
    "val_path_dict = create_dict(\"val\")\n",
    "test_path_dict = create_dict(\"test\")\n",
    "\n",
    "# combine dicts to Tensorflow dataset\n",
    "trainDS_filelist = combine_dict(train_path_dict)\n",
    "valDS_filelist = combine_dict(val_path_dict)\n",
    "testDS_filelist = combine_dict(test_path_dict)"
   ]
  },
  {
   "cell_type": "markdown",
   "metadata": {
    "id": "fC83Aqypcaom"
   },
   "source": [
    "## Process Datasets"
   ]
  },
  {
   "cell_type": "code",
   "execution_count": 9,
   "metadata": {
    "executionInfo": {
     "elapsed": 368,
     "status": "ok",
     "timestamp": 1713263651831,
     "user": {
      "displayName": "Kristopher Nolte",
      "userId": "15304813975192665624"
     },
     "user_tz": -120
    },
    "id": "pTYK0C6PgCcl"
   },
   "outputs": [],
   "source": [
    "def getLabel_onehot(file_path):\n",
    "    # convert the path to a list of path components\n",
    "    speciesName = tf.strings.split(file_path, os.path.sep)[-2]\n",
    "    # get one_hot vector boolean\n",
    "    species_one_hot = speciesName == species_list\n",
    "    # cast vector type to integer\n",
    "    species_one_hot = tf.cast(species_one_hot, dtype=tf.int8, name=None)\n",
    "    return species_one_hot\n",
    "\n",
    "def getImage(file_path):\n",
    "    # Load the .png image and cast it to float32\n",
    "    img = tf.io.read_file(file_path)\n",
    "    img = tf.io.decode_png(img, channels=3)\n",
    "    img = tf.image.resize(img, [IMG_SIZE, IMG_SIZE])\n",
    "    img = tf.cast(img, dtype=tf.float32)\n",
    "    return img\n",
    "\n",
    "def process_path(file_path):\n",
    "    # wrapper function to get image and label\n",
    "    species_label = getLabel_onehot(file_path)\n",
    "    img = getImage(file_path)\n",
    "    return img, species_label\n",
    "\n",
    "trainDS_raw = trainDS_filelist.map(process_path, num_parallel_calls=tf.data.AUTOTUNE)\n",
    "valDS_raw = valDS_filelist.map(process_path, num_parallel_calls=tf.data.AUTOTUNE)\n",
    "testDS_raw = testDS_filelist.map(process_path, num_parallel_calls=tf.data.AUTOTUNE)"
   ]
  },
  {
   "cell_type": "markdown",
   "metadata": {
    "id": "-osu8ax2cXNU"
   },
   "source": [
    "## Initialise Augmentation"
   ]
  },
  {
   "cell_type": "code",
   "execution_count": 10,
   "metadata": {
    "colab": {
     "base_uri": "https://localhost:8080/",
     "height": 1000,
     "output_embedded_package_id": "1x-1y6W9FgWvQQ8brBIv2vG2ehPhyFkfN"
    },
    "executionInfo": {
     "elapsed": 10400,
     "status": "ok",
     "timestamp": 1713263662226,
     "user": {
      "displayName": "Kristopher Nolte",
      "userId": "15304813975192665624"
     },
     "user_tz": -120
    },
    "id": "0b9mkQkcbnqS",
    "outputId": "f58da31f-da91-43c2-e1d0-1935bb87de63"
   },
   "outputs": [
    {
     "data": {
      "text/plain": [
       "Output hidden; open in https://colab.research.google.com to view."
      ]
     },
     "metadata": {},
     "output_type": "display_data"
    }
   ],
   "source": [
    "randAugment = keras_cv.layers.RandAugment(value_range=(0, 255),\n",
    "                                           augmentations_per_image=AUG_LAYER,\n",
    "                                           magnitude=AUG_MAGNITUDE,\n",
    "                                           geometric=False,\n",
    "                                           rate=1,\n",
    "                                           seed=SEED)\n",
    "\n",
    "# geometric augmentations\n",
    "randRot = tf.keras.layers.RandomRotation(AUG_ROTATTION, seed=SEED)\n",
    "randFlip = tf.keras.layers.RandomFlip(mode=\"horizontal\", seed=SEED)\n",
    "randTrans = tf.keras.layers.RandomTranslation(AUG_TRANSLATION, AUG_TRANSLATION, fill_mode=\"constant\", seed=SEED)\n",
    "\n",
    "# colorchanging augmentations according to http://arxiv.org/abs/1811.12231\n",
    "randSharp = keras_cv.layers.RandomSharpness(AUG_SHARPNESS, value_range=(0, 255), seed=SEED)\n",
    "randColorDegen = keras_cv.layers.RandomColorDegeneration(AUG_COLORDEGEN, seed=SEED)\n",
    "randNoise = tf.keras.layers.GaussianNoise(AUG_NOISE)\n",
    "\n",
    "def augment(img, label):\n",
    "  img = randRot(img)\n",
    "  img = randTrans(img)\n",
    "  img = randFlip(img)\n",
    "  img = randColorDegen(img)\n",
    "  img = randAugment(img)\n",
    "  img = randSharp(img)\n",
    "  img = randNoise(img)\n",
    "  return img, label\n",
    "\n",
    "trainDS = trainDS_raw.map(augment, num_parallel_calls=tf.data.AUTOTUNE).batch(BATCH_SIZE).cache().prefetch(tf.data.AUTOTUNE)\n",
    "valDS = valDS_raw.batch(BATCH_SIZE).cache().prefetch(tf.data.AUTOTUNE)\n",
    "testDS = testDS_raw.batch(BATCH_SIZE).cache().prefetch(tf.data.AUTOTUNE)"
   ]
  },
  {
   "cell_type": "markdown",
   "metadata": {
    "id": "Nb4xgMLWgVaM"
   },
   "source": [
    "## Initialise Models"
   ]
  },
  {
   "cell_type": "code",
   "execution_count": 11,
   "metadata": {
    "executionInfo": {
     "elapsed": 897,
     "status": "ok",
     "timestamp": 1713263663107,
     "user": {
      "displayName": "Kristopher Nolte",
      "userId": "15304813975192665624"
     },
     "user_tz": -120
    },
    "id": "0qVsIxm-gVK0"
   },
   "outputs": [],
   "source": [
    "def build_model(BASE_MODEL, input_size):\n",
    "    # freeze all layers of the model\n",
    "    BASE_MODEL.trainable = False\n",
    "    \n",
    "    # define classification head\n",
    "    flatten_layer = tf.keras.layers.GlobalAveragePooling2D()(BASE_MODEL.output)\n",
    "    regu_layer = tf.keras.layers.Dropout(DROPOUT)(flatten_layer)\n",
    "    output_layer = tf.keras.layers.Dense(len(species_list), activation = \"softmax\")(regu_layer)\n",
    "    \n",
    "    # built model\n",
    "    model = tf.keras.Model(inputs=BASE_MODEL.inputs, outputs=output_layer)\n",
    "    return model\n",
    "\n",
    "# load ImageNet pre-trained EfficientNet model\n",
    "efficientNETB0_0 = tf.keras.applications.EfficientNetV2B0(include_top=False, weights='imagenet', input_shape=(IMG_SIZE,IMG_SIZE,3), include_preprocessing=True)\n",
    "\n",
    "model_dict = {}\n",
    "model_dict[\"efficientNETB0\"]  = build_model(efficientNETB0_0, IMG_SIZE)"
   ]
  },
  {
   "cell_type": "markdown",
   "metadata": {
    "id": "bR1RF7l0lHxL"
   },
   "source": [
    "## Transfer Learning"
   ]
  },
  {
   "cell_type": "code",
   "execution_count": 12,
   "metadata": {
    "colab": {
     "base_uri": "https://localhost:8080/",
     "height": 918
    },
    "executionInfo": {
     "elapsed": 65867,
     "status": "ok",
     "timestamp": 1713263728943,
     "user": {
      "displayName": "Kristopher Nolte",
      "userId": "15304813975192665624"
     },
     "user_tz": -120
    },
    "id": "NHWreqx_kmtC",
    "outputId": "50e09701-7106-472b-c4f7-91e48295a646"
   },
   "outputs": [
    {
     "data": {
      "text/html": [
       "Tracking run with wandb version 0.16.6"
      ],
      "text/plain": [
       "<IPython.core.display.HTML object>"
      ]
     },
     "metadata": {},
     "output_type": "display_data"
    },
    {
     "data": {
      "text/html": [
       "Run data is saved locally in <code>/content/wandb/run-20240416_103422-ehjc9dwi</code>"
      ],
      "text/plain": [
       "<IPython.core.display.HTML object>"
      ]
     },
     "metadata": {},
     "output_type": "display_data"
    },
    {
     "data": {
      "text/html": [
       "Syncing run <strong><a href='https://wandb.ai/convector/comparison/runs/ehjc9dwi' target=\"_blank\">efficientNETB0_transfer_body_1_2024-04-16-10-34</a></strong> to <a href='https://wandb.ai/convector/comparison' target=\"_blank\">Weights & Biases</a> (<a href='https://wandb.me/run' target=\"_blank\">docs</a>)<br/>"
      ],
      "text/plain": [
       "<IPython.core.display.HTML object>"
      ]
     },
     "metadata": {},
     "output_type": "display_data"
    },
    {
     "data": {
      "text/html": [
       " View project at <a href='https://wandb.ai/convector/comparison' target=\"_blank\">https://wandb.ai/convector/comparison</a>"
      ],
      "text/plain": [
       "<IPython.core.display.HTML object>"
      ]
     },
     "metadata": {},
     "output_type": "display_data"
    },
    {
     "data": {
      "text/html": [
       " View run at <a href='https://wandb.ai/convector/comparison/runs/ehjc9dwi' target=\"_blank\">https://wandb.ai/convector/comparison/runs/ehjc9dwi</a>"
      ],
      "text/plain": [
       "<IPython.core.display.HTML object>"
      ]
     },
     "metadata": {},
     "output_type": "display_data"
    },
    {
     "name": "stdout",
     "output_type": "stream",
     "text": [
      "Epoch 1/24\n",
      "70/70 [==============================] - 21s 143ms/step - loss: 1.3705 - accuracy: 0.3423 - val_loss: 1.2900 - val_accuracy: 0.4125\n",
      "Epoch 2/24\n",
      "70/70 [==============================] - 2s 24ms/step - loss: 1.2583 - accuracy: 0.4234 - val_loss: 1.1998 - val_accuracy: 0.4583\n",
      "Epoch 3/24\n",
      "70/70 [==============================] - 2s 24ms/step - loss: 1.1442 - accuracy: 0.4946 - val_loss: 1.1246 - val_accuracy: 0.5250\n",
      "Epoch 4/24\n",
      "70/70 [==============================] - 2s 23ms/step - loss: 1.0844 - accuracy: 0.5477 - val_loss: 1.0667 - val_accuracy: 0.5667\n",
      "Epoch 5/24\n",
      "70/70 [==============================] - 2s 23ms/step - loss: 1.0248 - accuracy: 0.5991 - val_loss: 1.0282 - val_accuracy: 0.5792\n",
      "Epoch 6/24\n",
      "70/70 [==============================] - 2s 24ms/step - loss: 0.9872 - accuracy: 0.6018 - val_loss: 0.9879 - val_accuracy: 0.6083\n",
      "Epoch 7/24\n",
      "70/70 [==============================] - 2s 24ms/step - loss: 0.9613 - accuracy: 0.6117 - val_loss: 0.9550 - val_accuracy: 0.6375\n",
      "Epoch 8/24\n",
      "70/70 [==============================] - 2s 23ms/step - loss: 0.9116 - accuracy: 0.6586 - val_loss: 0.9359 - val_accuracy: 0.6417\n",
      "Epoch 9/24\n",
      "70/70 [==============================] - 2s 23ms/step - loss: 0.8985 - accuracy: 0.6486 - val_loss: 0.9164 - val_accuracy: 0.6542\n",
      "Epoch 10/24\n",
      "70/70 [==============================] - 2s 24ms/step - loss: 0.8983 - accuracy: 0.6351 - val_loss: 0.8971 - val_accuracy: 0.6625\n",
      "Epoch 11/24\n",
      "70/70 [==============================] - 2s 23ms/step - loss: 0.8531 - accuracy: 0.6658 - val_loss: 0.8799 - val_accuracy: 0.6667\n",
      "Epoch 12/24\n",
      "70/70 [==============================] - 2s 24ms/step - loss: 0.8357 - accuracy: 0.6676 - val_loss: 0.8653 - val_accuracy: 0.6750\n",
      "Epoch 13/24\n",
      "70/70 [==============================] - 2s 24ms/step - loss: 0.8273 - accuracy: 0.6928 - val_loss: 0.8635 - val_accuracy: 0.6625\n",
      "Epoch 14/24\n",
      "70/70 [==============================] - 2s 24ms/step - loss: 0.8050 - accuracy: 0.7009 - val_loss: 0.8358 - val_accuracy: 0.6875\n",
      "Epoch 15/24\n",
      "70/70 [==============================] - 2s 24ms/step - loss: 0.8021 - accuracy: 0.6937 - val_loss: 0.8275 - val_accuracy: 0.7000\n",
      "Epoch 16/24\n",
      "70/70 [==============================] - 2s 23ms/step - loss: 0.7947 - accuracy: 0.6874 - val_loss: 0.8142 - val_accuracy: 0.6958\n",
      "Epoch 17/24\n",
      "70/70 [==============================] - 2s 24ms/step - loss: 0.7494 - accuracy: 0.7153 - val_loss: 0.8059 - val_accuracy: 0.6917\n",
      "Epoch 18/24\n",
      "70/70 [==============================] - 2s 23ms/step - loss: 0.7668 - accuracy: 0.7090 - val_loss: 0.7984 - val_accuracy: 0.6917\n",
      "Epoch 19/24\n",
      "70/70 [==============================] - 2s 24ms/step - loss: 0.7596 - accuracy: 0.7018 - val_loss: 0.7918 - val_accuracy: 0.7042\n",
      "Epoch 20/24\n",
      "70/70 [==============================] - 2s 24ms/step - loss: 0.7518 - accuracy: 0.7216 - val_loss: 0.7827 - val_accuracy: 0.7125\n",
      "Epoch 21/24\n",
      "70/70 [==============================] - 2s 24ms/step - loss: 0.7385 - accuracy: 0.7207 - val_loss: 0.7667 - val_accuracy: 0.7083\n",
      "Epoch 22/24\n",
      "70/70 [==============================] - 2s 24ms/step - loss: 0.7272 - accuracy: 0.7027 - val_loss: 0.7636 - val_accuracy: 0.7167\n",
      "Epoch 23/24\n",
      "70/70 [==============================] - 2s 23ms/step - loss: 0.7236 - accuracy: 0.7261 - val_loss: 0.7608 - val_accuracy: 0.7167\n",
      "Epoch 24/24\n",
      "70/70 [==============================] - 2s 23ms/step - loss: 0.7320 - accuracy: 0.7126 - val_loss: 0.7550 - val_accuracy: 0.7042\n"
     ]
    }
   ],
   "source": [
    "LOSS = tf.keras.losses.CategoricalCrossentropy(from_logits=False)\n",
    "OPTIMIZER_TRANSFER = tf.keras.optimizers.legacy.Adam(learning_rate=LEARNING_RATE_TRANSFER)\n",
    "EARLY_STOP = tf.keras.callbacks.EarlyStopping(monitor='val_loss', patience = EARLY_STOP_PATIENCE, mode='auto', restore_best_weights=True)\n",
    "\n",
    "for model in model_dict:\n",
    "  wandb.finish()\n",
    "  model_run = model_run = \"_\".join([model, \"transfer\", DEPICTION, str(SEED), datetime.now().strftime('%Y-%m-%d-%H-%M')])\n",
    "  # inititiliaze weights&biases\n",
    "  wandb.init(name=model_run,\n",
    "             project=\"comparison\",\n",
    "\n",
    "      # track hyperparameters and run metadata with wandb.config\n",
    "      config={\n",
    "          \"Model Name\": model,\n",
    "          \"Depiction\": DEPICTION,\n",
    "          \"Batch Size\": BATCH_SIZE,\n",
    "          \"Epochs\": MAX_EPOCHS_TRANSFER,\n",
    "          \"Learning Rate\": LEARNING_RATE_TRANSFER})\n",
    "\n",
    "  MONITOR_CALLBACK =  wandb.keras.WandbCallback(save_model=False)\n",
    "\n",
    "  model_dict[model].compile(optimizer=OPTIMIZER_TRANSFER, loss=LOSS, metrics=[\"accuracy\"])\n",
    "  history = model_dict[model].fit(trainDS, epochs=MAX_EPOCHS_TRANSFER, validation_data=valDS, callbacks=[EARLY_STOP, MONITOR_CALLBACK])"
   ]
  },
  {
   "cell_type": "markdown",
   "metadata": {
    "id": "tz4w9D8znfum"
   },
   "source": [
    "## Fine-Tuning"
   ]
  },
  {
   "cell_type": "code",
   "execution_count": 13,
   "metadata": {
    "colab": {
     "base_uri": "https://localhost:8080/",
     "height": 1000,
     "referenced_widgets": [
      "a6b8eadc632540778424613ea76387c6",
      "c11bef199e2e476fa2250e216196c034",
      "289612eb97534585a525e59f392e3db0",
      "4f6c37f1dbcc4ff088a67c52767efb93",
      "a5322feedf504a09b71de24dec2460f3",
      "5ec47028dbaa4d0b8ea3d475bd726f3e",
      "cfaacd211f0348daa9a56e4f2240f94d",
      "4a7a14de8b0e4840a6ddfcbc2b6889e1"
     ]
    },
    "executionInfo": {
     "elapsed": 123102,
     "status": "ok",
     "timestamp": 1713263852027,
     "user": {
      "displayName": "Kristopher Nolte",
      "userId": "15304813975192665624"
     },
     "user_tz": -120
    },
    "id": "iIycCOYZnhIa",
    "outputId": "b9348f55-2f2f-451c-ee09-e18bf6e18e18"
   },
   "outputs": [
    {
     "data": {
      "application/vnd.jupyter.widget-view+json": {
       "model_id": "a6b8eadc632540778424613ea76387c6",
       "version_major": 2,
       "version_minor": 0
      },
      "text/plain": [
       "VBox(children=(Label(value='0.053 MB of 0.053 MB uploaded\\r'), FloatProgress(value=1.0, max=1.0)))"
      ]
     },
     "metadata": {},
     "output_type": "display_data"
    },
    {
     "data": {
      "text/html": [
       "<style>\n",
       "    table.wandb td:nth-child(1) { padding: 0 10px; text-align: left ; width: auto;} td:nth-child(2) {text-align: left ; width: 100%}\n",
       "    .wandb-row { display: flex; flex-direction: row; flex-wrap: wrap; justify-content: flex-start; width: 100% }\n",
       "    .wandb-col { display: flex; flex-direction: column; flex-basis: 100%; flex: 1; padding: 10px; }\n",
       "    </style>\n",
       "<div class=\"wandb-row\"><div class=\"wandb-col\"><h3>Run history:</h3><br/><table class=\"wandb\"><tr><td>accuracy</td><td>▁▂▄▅▆▆▆▇▇▆▇▇▇█▇▇████████</td></tr><tr><td>epoch</td><td>▁▁▂▂▂▃▃▃▃▄▄▄▅▅▅▆▆▆▆▇▇▇██</td></tr><tr><td>loss</td><td>█▇▆▅▄▄▄▃▃▃▂▂▂▂▂▂▁▁▁▁▁▁▁▁</td></tr><tr><td>val_accuracy</td><td>▁▂▄▅▅▆▆▆▇▇▇▇▇▇██▇▇██████</td></tr><tr><td>val_loss</td><td>█▇▆▅▅▄▄▃▃▃▃▂▂▂▂▂▂▂▁▁▁▁▁▁</td></tr></table><br/></div><div class=\"wandb-col\"><h3>Run summary:</h3><br/><table class=\"wandb\"><tr><td>accuracy</td><td>0.71261</td></tr><tr><td>best_epoch</td><td>23</td></tr><tr><td>best_val_loss</td><td>0.75504</td></tr><tr><td>epoch</td><td>23</td></tr><tr><td>loss</td><td>0.73198</td></tr><tr><td>val_accuracy</td><td>0.70417</td></tr><tr><td>val_loss</td><td>0.75504</td></tr></table><br/></div></div>"
      ],
      "text/plain": [
       "<IPython.core.display.HTML object>"
      ]
     },
     "metadata": {},
     "output_type": "display_data"
    },
    {
     "data": {
      "text/html": [
       " View run <strong style=\"color:#cdcd00\">efficientNETB0_transfer_body_1_2024-04-16-10-34</strong> at: <a href='https://wandb.ai/convector/comparison/runs/ehjc9dwi' target=\"_blank\">https://wandb.ai/convector/comparison/runs/ehjc9dwi</a><br/> View project at: <a href='https://wandb.ai/convector/comparison' target=\"_blank\">https://wandb.ai/convector/comparison</a><br/>Synced 5 W&B file(s), 1 media file(s), 0 artifact file(s) and 0 other file(s)"
      ],
      "text/plain": [
       "<IPython.core.display.HTML object>"
      ]
     },
     "metadata": {},
     "output_type": "display_data"
    },
    {
     "data": {
      "text/html": [
       "Find logs at: <code>./wandb/run-20240416_103422-ehjc9dwi/logs</code>"
      ],
      "text/plain": [
       "<IPython.core.display.HTML object>"
      ]
     },
     "metadata": {},
     "output_type": "display_data"
    },
    {
     "data": {
      "text/html": [
       "Tracking run with wandb version 0.16.6"
      ],
      "text/plain": [
       "<IPython.core.display.HTML object>"
      ]
     },
     "metadata": {},
     "output_type": "display_data"
    },
    {
     "data": {
      "text/html": [
       "Run data is saved locally in <code>/content/wandb/run-20240416_103532-ijoheqpo</code>"
      ],
      "text/plain": [
       "<IPython.core.display.HTML object>"
      ]
     },
     "metadata": {},
     "output_type": "display_data"
    },
    {
     "data": {
      "text/html": [
       "Syncing run <strong><a href='https://wandb.ai/convector/comparison/runs/ijoheqpo' target=\"_blank\">efficientNETB0_body_1_2024-04-16-10-35</a></strong> to <a href='https://wandb.ai/convector/comparison' target=\"_blank\">Weights & Biases</a> (<a href='https://wandb.me/run' target=\"_blank\">docs</a>)<br/>"
      ],
      "text/plain": [
       "<IPython.core.display.HTML object>"
      ]
     },
     "metadata": {},
     "output_type": "display_data"
    },
    {
     "data": {
      "text/html": [
       " View project at <a href='https://wandb.ai/convector/comparison' target=\"_blank\">https://wandb.ai/convector/comparison</a>"
      ],
      "text/plain": [
       "<IPython.core.display.HTML object>"
      ]
     },
     "metadata": {},
     "output_type": "display_data"
    },
    {
     "data": {
      "text/html": [
       " View run at <a href='https://wandb.ai/convector/comparison/runs/ijoheqpo' target=\"_blank\">https://wandb.ai/convector/comparison/runs/ijoheqpo</a>"
      ],
      "text/plain": [
       "<IPython.core.display.HTML object>"
      ]
     },
     "metadata": {},
     "output_type": "display_data"
    },
    {
     "name": "stdout",
     "output_type": "stream",
     "text": [
      "Epoch 1/64\n",
      "70/70 [==============================] - 13s 61ms/step - loss: 0.7015 - accuracy: 0.7333 - val_loss: 0.7347 - val_accuracy: 0.7208\n",
      "Epoch 2/64\n",
      "70/70 [==============================] - 2s 35ms/step - loss: 0.6970 - accuracy: 0.7324 - val_loss: 0.7156 - val_accuracy: 0.7208\n",
      "Epoch 3/64\n",
      "70/70 [==============================] - 2s 35ms/step - loss: 0.6911 - accuracy: 0.7315 - val_loss: 0.7111 - val_accuracy: 0.7333\n",
      "Epoch 4/64\n",
      "70/70 [==============================] - 2s 35ms/step - loss: 0.6543 - accuracy: 0.7432 - val_loss: 0.6969 - val_accuracy: 0.7167\n",
      "Epoch 5/64\n",
      "70/70 [==============================] - 2s 36ms/step - loss: 0.6392 - accuracy: 0.7577 - val_loss: 0.6784 - val_accuracy: 0.7292\n",
      "Epoch 6/64\n",
      "70/70 [==============================] - 2s 36ms/step - loss: 0.6178 - accuracy: 0.7613 - val_loss: 0.6638 - val_accuracy: 0.7417\n",
      "Epoch 7/64\n",
      "70/70 [==============================] - 2s 35ms/step - loss: 0.5874 - accuracy: 0.7838 - val_loss: 0.6418 - val_accuracy: 0.7500\n",
      "Epoch 8/64\n",
      "70/70 [==============================] - 2s 35ms/step - loss: 0.5469 - accuracy: 0.7973 - val_loss: 0.6236 - val_accuracy: 0.7583\n",
      "Epoch 9/64\n",
      "70/70 [==============================] - 2s 34ms/step - loss: 0.5288 - accuracy: 0.8009 - val_loss: 0.6529 - val_accuracy: 0.7500\n",
      "Epoch 10/64\n",
      "70/70 [==============================] - 3s 36ms/step - loss: 0.4994 - accuracy: 0.8171 - val_loss: 0.6094 - val_accuracy: 0.7583\n",
      "Epoch 11/64\n",
      "70/70 [==============================] - 2s 36ms/step - loss: 0.4932 - accuracy: 0.8288 - val_loss: 0.5931 - val_accuracy: 0.7625\n",
      "Epoch 12/64\n",
      "70/70 [==============================] - 2s 34ms/step - loss: 0.4684 - accuracy: 0.8207 - val_loss: 0.6118 - val_accuracy: 0.7500\n",
      "Epoch 13/64\n",
      "70/70 [==============================] - 3s 36ms/step - loss: 0.4455 - accuracy: 0.8306 - val_loss: 0.5861 - val_accuracy: 0.7667\n",
      "Epoch 14/64\n",
      "70/70 [==============================] - 3s 36ms/step - loss: 0.4299 - accuracy: 0.8297 - val_loss: 0.5407 - val_accuracy: 0.7750\n",
      "Epoch 15/64\n",
      "70/70 [==============================] - 2s 35ms/step - loss: 0.4011 - accuracy: 0.8396 - val_loss: 0.5451 - val_accuracy: 0.7792\n",
      "Epoch 16/64\n",
      "70/70 [==============================] - 2s 34ms/step - loss: 0.3679 - accuracy: 0.8739 - val_loss: 0.5437 - val_accuracy: 0.7750\n",
      "Epoch 17/64\n",
      "70/70 [==============================] - 2s 36ms/step - loss: 0.3668 - accuracy: 0.8676 - val_loss: 0.5224 - val_accuracy: 0.7958\n",
      "Epoch 18/64\n",
      "70/70 [==============================] - 2s 34ms/step - loss: 0.3288 - accuracy: 0.8793 - val_loss: 0.5382 - val_accuracy: 0.7750\n",
      "Epoch 19/64\n",
      "70/70 [==============================] - 3s 36ms/step - loss: 0.3183 - accuracy: 0.8892 - val_loss: 0.4762 - val_accuracy: 0.7958\n",
      "Epoch 20/64\n",
      "70/70 [==============================] - 2s 34ms/step - loss: 0.3171 - accuracy: 0.8928 - val_loss: 0.5326 - val_accuracy: 0.7833\n",
      "Epoch 21/64\n",
      "70/70 [==============================] - 2s 34ms/step - loss: 0.2851 - accuracy: 0.8928 - val_loss: 0.5192 - val_accuracy: 0.7833\n",
      "Epoch 22/64\n",
      "70/70 [==============================] - 2s 34ms/step - loss: 0.2781 - accuracy: 0.9018 - val_loss: 0.4917 - val_accuracy: 0.7958\n",
      "Epoch 23/64\n",
      "70/70 [==============================] - 2s 34ms/step - loss: 0.2586 - accuracy: 0.9090 - val_loss: 0.4916 - val_accuracy: 0.8000\n",
      "Epoch 24/64\n",
      "70/70 [==============================] - 2s 34ms/step - loss: 0.2531 - accuracy: 0.9063 - val_loss: 0.4788 - val_accuracy: 0.8042\n",
      "Epoch 25/64\n",
      "70/70 [==============================] - 2s 34ms/step - loss: 0.2339 - accuracy: 0.9153 - val_loss: 0.4994 - val_accuracy: 0.7917\n",
      "Epoch 26/64\n",
      "70/70 [==============================] - 2s 34ms/step - loss: 0.2202 - accuracy: 0.9225 - val_loss: 0.4904 - val_accuracy: 0.8000\n",
      "Epoch 27/64\n",
      "70/70 [==============================] - 2s 34ms/step - loss: 0.1984 - accuracy: 0.9369 - val_loss: 0.4894 - val_accuracy: 0.8042\n",
      "Epoch 28/64\n",
      "70/70 [==============================] - 2s 34ms/step - loss: 0.1846 - accuracy: 0.9405 - val_loss: 0.4987 - val_accuracy: 0.8125\n",
      "Epoch 29/64\n",
      "70/70 [==============================] - 2s 34ms/step - loss: 0.1860 - accuracy: 0.9369 - val_loss: 0.4832 - val_accuracy: 0.8167\n",
      "Epoch 30/64\n",
      "70/70 [==============================] - 2s 34ms/step - loss: 0.1991 - accuracy: 0.9324 - val_loss: 0.4876 - val_accuracy: 0.8208\n",
      "Epoch 31/64\n",
      "70/70 [==============================] - 3s 36ms/step - loss: 0.1780 - accuracy: 0.9351 - val_loss: 0.4997 - val_accuracy: 0.8167\n"
     ]
    }
   ],
   "source": [
    "for model in model_dict:\n",
    "  wandb.finish()\n",
    "  model_run = model_run = \"_\".join([model, DEPICTION, str(SEED), datetime.now().strftime('%Y-%m-%d-%H-%M')])\n",
    "  # inititiliaze weights&biases\n",
    "  wandb.init(name=model_run,\n",
    "             project=\"comparison\",\n",
    "\n",
    "      # track hyperparameters and run metadata with wandb.config\n",
    "      config={\n",
    "          \"Model Name\": model,\n",
    "          \"Depiction\": DEPICTION,\n",
    "          \"Batch Size\": BATCH_SIZE,\n",
    "          \"Epochs\": MAX_EPOCHS_TUNING,\n",
    "          \"Learning Rate\": LEARNING_RATE_TRANSFER,})\n",
    "\n",
    "  LEARNING_SCHEDUELE = tf.keras.optimizers.schedules.CosineDecay(initial_learning_rate=LEARNING_RATE_TUNING*0.1,\n",
    "                                                                 decay_steps=COSINE_DECAY_STEPS,\n",
    "                                                                 warmup_target=LEARNING_RATE_TUNING,\n",
    "                                                                 warmup_steps=COSINE_DECAY_STEPS*0.1)\n",
    "\n",
    "  OPTIMIZER_TUNING = tf.keras.optimizers.legacy.Adam(learning_rate=LEARNING_SCHEDUELE)\n",
    "\n",
    "  # unfreeze 50% of the model  \n",
    "  fine_tune_at = int(len(model_dict[model].layers)*0.5)\n",
    "  for layer in model_dict[model].layers[fine_tune_at:]:\n",
    "      # skip BatchNormalization layers as they should be froozen: https://www.tensorflow.org/guide/keras/transfer_learning#transfer_learning_fine-tuning_with_a_custom_training_loop\n",
    "      if not isinstance(layer, tf.keras.layers.BatchNormalization):\n",
    "            layer.trainable = True\n",
    "\n",
    "  MONITOR_CALLBACK =  wandb.keras.WandbCallback(save_model=False)\n",
    "\n",
    "  model_dict[model].compile(optimizer=OPTIMIZER_TUNING, loss=LOSS, metrics=[\"accuracy\"])\n",
    "  history = model_dict[model].fit(trainDS, epochs=MAX_EPOCHS_TUNING, validation_data=valDS, callbacks=[EARLY_STOP, MONITOR_CALLBACK])\n",
    "\n",
    "  # save model as .h5 \n",
    "  model_dict[model].save(os.path.join(SAVE_DIR, model_run))"
   ]
  },
  {
   "cell_type": "markdown",
   "metadata": {},
   "source": [
    "## Test models on validation and testing set"
   ]
  },
  {
   "cell_type": "code",
   "execution_count": 14,
   "metadata": {
    "executionInfo": {
     "elapsed": 7514,
     "status": "ok",
     "timestamp": 1713263859527,
     "user": {
      "displayName": "Kristopher Nolte",
      "userId": "15304813975192665624"
     },
     "user_tz": -120
    },
    "id": "6fk3th5UqQ1X"
   },
   "outputs": [],
   "source": [
    "def get_cnn_prediction(cnn_model, dataset):\n",
    "    # get model prediction\n",
    "    prediction_list = cnn_model.predict(dataset, verbose=0)\n",
    "\n",
    "    def parse_prediction(prediction_list, rank):\n",
    "        highest_score_list = [np.sort(prediction)[-rank] for prediction in prediction_list]\n",
    "        highest_score_index_list = [np.where(prediction_list[i] == highest_score)[0][0] for i, highest_score in enumerate(highest_score_list)]\n",
    "        species_name_list = [species_list[highest_score_index] for highest_score_index in highest_score_index_list]\n",
    "\n",
    "        return np.asarray(highest_score_list), np.asarray(species_name_list)\n",
    "\n",
    "    highest_score_list, species_name_list = parse_prediction(prediction_list, 1)\n",
    "    sec_highest_score_list, sec_species_name_list = parse_prediction(prediction_list, 2)\n",
    "\n",
    "    return highest_score_list, species_name_list, sec_highest_score_list, sec_species_name_list, prediction_list\n",
    "\n",
    "def get_system_prediction(cnn_model, designation, species_list):\n",
    "    # load images\n",
    "    df_temp = pd.DataFrame(columns=[\"image_path\", \"pred_label\", \"highest_score\", \"sec_pred_label\", \"sec_highest_score\", \"datasplit\", \"true_label\"])\n",
    "    for species in species_list:\n",
    "        try:\n",
    "            folder_path = os.path.join(DIR_PATH, designation, species, \"*.png\")\n",
    "            file_list = tf.data.Dataset.list_files(folder_path, shuffle=False)\n",
    "            dataset = file_list.map(getImage).batch(1)\n",
    "\n",
    "            # get predictions\n",
    "            highest_score_list, species_name_list, sec_highest_score_list, sec_species_name_list, prediction_list = get_cnn_prediction(cnn_model, dataset)\n",
    "\n",
    "            # write predictions to dataframe\n",
    "            df = pd.DataFrame({\"image_path\": [f.numpy().decode('utf-8') for f in file_list],\n",
    "                           \"pred_label\": species_name_list,\n",
    "                           \"highest_score\": highest_score_list,\n",
    "                           \"sec_pred_label\": sec_species_name_list,\n",
    "                           \"sec_highest_score\": sec_highest_score_list,\n",
    "                               \"datasplit\": [designation]*file_list.__len__().numpy(),\n",
    "                               \"true_label\": [species]*file_list.__len__().numpy(),})\n",
    "\n",
    "            df_temp = pd.concat([df_temp, df])\n",
    "\n",
    "        except Exception as e: print(species , e)\n",
    "    return df_temp\n",
    "\n",
    "df_dict = {}\n",
    "for model in model_dict.keys():\n",
    "\n",
    "    df_val = get_system_prediction(model_dict[model], \"val\", species_list)\n",
    "    df_test = get_system_prediction(model_dict[model], \"test\", species_list)\n",
    "    df_dict[model] = pd.concat([df_val, df_test])\n",
    "\n",
    "    df_dict[model][\"correct\"] = df_dict[model][\"pred_label\"] == df_dict[model][\"true_label\"]\n",
    "    df_dict[model].to_pickle(os.path.join(SAVE_DIR, model_run+\"_VALTEST.pkl\"))"
   ]
  }
 ],
 "metadata": {
  "accelerator": "GPU",
  "colab": {
   "gpuType": "L4",
   "machine_shape": "hm",
   "provenance": []
  },
  "kernelspec": {
   "display_name": "venv-metal",
   "language": "python",
   "name": "venv-metal"
  },
  "language_info": {
   "codemirror_mode": {
    "name": "ipython",
    "version": 3
   },
   "file_extension": ".py",
   "mimetype": "text/x-python",
   "name": "python",
   "nbconvert_exporter": "python",
   "pygments_lexer": "ipython3",
   "version": "3.10.12"
  },
  "widgets": {
   "application/vnd.jupyter.widget-state+json": {
    "289612eb97534585a525e59f392e3db0": {
     "model_module": "@jupyter-widgets/controls",
     "model_module_version": "1.5.0",
     "model_name": "FloatProgressModel",
     "state": {
      "_dom_classes": [],
      "_model_module": "@jupyter-widgets/controls",
      "_model_module_version": "1.5.0",
      "_model_name": "FloatProgressModel",
      "_view_count": null,
      "_view_module": "@jupyter-widgets/controls",
      "_view_module_version": "1.5.0",
      "_view_name": "ProgressView",
      "bar_style": "",
      "description": "",
      "description_tooltip": null,
      "layout": "IPY_MODEL_cfaacd211f0348daa9a56e4f2240f94d",
      "max": 1,
      "min": 0,
      "orientation": "horizontal",
      "style": "IPY_MODEL_4a7a14de8b0e4840a6ddfcbc2b6889e1",
      "value": 1
     }
    },
    "4a7a14de8b0e4840a6ddfcbc2b6889e1": {
     "model_module": "@jupyter-widgets/controls",
     "model_module_version": "1.5.0",
     "model_name": "ProgressStyleModel",
     "state": {
      "_model_module": "@jupyter-widgets/controls",
      "_model_module_version": "1.5.0",
      "_model_name": "ProgressStyleModel",
      "_view_count": null,
      "_view_module": "@jupyter-widgets/base",
      "_view_module_version": "1.2.0",
      "_view_name": "StyleView",
      "bar_color": null,
      "description_width": ""
     }
    },
    "4f6c37f1dbcc4ff088a67c52767efb93": {
     "model_module": "@jupyter-widgets/base",
     "model_module_version": "1.2.0",
     "model_name": "LayoutModel",
     "state": {
      "_model_module": "@jupyter-widgets/base",
      "_model_module_version": "1.2.0",
      "_model_name": "LayoutModel",
      "_view_count": null,
      "_view_module": "@jupyter-widgets/base",
      "_view_module_version": "1.2.0",
      "_view_name": "LayoutView",
      "align_content": null,
      "align_items": null,
      "align_self": null,
      "border": null,
      "bottom": null,
      "display": null,
      "flex": null,
      "flex_flow": null,
      "grid_area": null,
      "grid_auto_columns": null,
      "grid_auto_flow": null,
      "grid_auto_rows": null,
      "grid_column": null,
      "grid_gap": null,
      "grid_row": null,
      "grid_template_areas": null,
      "grid_template_columns": null,
      "grid_template_rows": null,
      "height": null,
      "justify_content": null,
      "justify_items": null,
      "left": null,
      "margin": null,
      "max_height": null,
      "max_width": null,
      "min_height": null,
      "min_width": null,
      "object_fit": null,
      "object_position": null,
      "order": null,
      "overflow": null,
      "overflow_x": null,
      "overflow_y": null,
      "padding": null,
      "right": null,
      "top": null,
      "visibility": null,
      "width": null
     }
    },
    "5ec47028dbaa4d0b8ea3d475bd726f3e": {
     "model_module": "@jupyter-widgets/controls",
     "model_module_version": "1.5.0",
     "model_name": "DescriptionStyleModel",
     "state": {
      "_model_module": "@jupyter-widgets/controls",
      "_model_module_version": "1.5.0",
      "_model_name": "DescriptionStyleModel",
      "_view_count": null,
      "_view_module": "@jupyter-widgets/base",
      "_view_module_version": "1.2.0",
      "_view_name": "StyleView",
      "description_width": ""
     }
    },
    "a5322feedf504a09b71de24dec2460f3": {
     "model_module": "@jupyter-widgets/base",
     "model_module_version": "1.2.0",
     "model_name": "LayoutModel",
     "state": {
      "_model_module": "@jupyter-widgets/base",
      "_model_module_version": "1.2.0",
      "_model_name": "LayoutModel",
      "_view_count": null,
      "_view_module": "@jupyter-widgets/base",
      "_view_module_version": "1.2.0",
      "_view_name": "LayoutView",
      "align_content": null,
      "align_items": null,
      "align_self": null,
      "border": null,
      "bottom": null,
      "display": null,
      "flex": null,
      "flex_flow": null,
      "grid_area": null,
      "grid_auto_columns": null,
      "grid_auto_flow": null,
      "grid_auto_rows": null,
      "grid_column": null,
      "grid_gap": null,
      "grid_row": null,
      "grid_template_areas": null,
      "grid_template_columns": null,
      "grid_template_rows": null,
      "height": null,
      "justify_content": null,
      "justify_items": null,
      "left": null,
      "margin": null,
      "max_height": null,
      "max_width": null,
      "min_height": null,
      "min_width": null,
      "object_fit": null,
      "object_position": null,
      "order": null,
      "overflow": null,
      "overflow_x": null,
      "overflow_y": null,
      "padding": null,
      "right": null,
      "top": null,
      "visibility": null,
      "width": null
     }
    },
    "a6b8eadc632540778424613ea76387c6": {
     "model_module": "@jupyter-widgets/controls",
     "model_module_version": "1.5.0",
     "model_name": "VBoxModel",
     "state": {
      "_dom_classes": [],
      "_model_module": "@jupyter-widgets/controls",
      "_model_module_version": "1.5.0",
      "_model_name": "VBoxModel",
      "_view_count": null,
      "_view_module": "@jupyter-widgets/controls",
      "_view_module_version": "1.5.0",
      "_view_name": "VBoxView",
      "box_style": "",
      "children": [
       "IPY_MODEL_c11bef199e2e476fa2250e216196c034",
       "IPY_MODEL_289612eb97534585a525e59f392e3db0"
      ],
      "layout": "IPY_MODEL_4f6c37f1dbcc4ff088a67c52767efb93"
     }
    },
    "c11bef199e2e476fa2250e216196c034": {
     "model_module": "@jupyter-widgets/controls",
     "model_module_version": "1.5.0",
     "model_name": "LabelModel",
     "state": {
      "_dom_classes": [],
      "_model_module": "@jupyter-widgets/controls",
      "_model_module_version": "1.5.0",
      "_model_name": "LabelModel",
      "_view_count": null,
      "_view_module": "@jupyter-widgets/controls",
      "_view_module_version": "1.5.0",
      "_view_name": "LabelView",
      "description": "",
      "description_tooltip": null,
      "layout": "IPY_MODEL_a5322feedf504a09b71de24dec2460f3",
      "placeholder": "​",
      "style": "IPY_MODEL_5ec47028dbaa4d0b8ea3d475bd726f3e",
      "value": "0.066 MB of 0.066 MB uploaded\r"
     }
    },
    "cfaacd211f0348daa9a56e4f2240f94d": {
     "model_module": "@jupyter-widgets/base",
     "model_module_version": "1.2.0",
     "model_name": "LayoutModel",
     "state": {
      "_model_module": "@jupyter-widgets/base",
      "_model_module_version": "1.2.0",
      "_model_name": "LayoutModel",
      "_view_count": null,
      "_view_module": "@jupyter-widgets/base",
      "_view_module_version": "1.2.0",
      "_view_name": "LayoutView",
      "align_content": null,
      "align_items": null,
      "align_self": null,
      "border": null,
      "bottom": null,
      "display": null,
      "flex": null,
      "flex_flow": null,
      "grid_area": null,
      "grid_auto_columns": null,
      "grid_auto_flow": null,
      "grid_auto_rows": null,
      "grid_column": null,
      "grid_gap": null,
      "grid_row": null,
      "grid_template_areas": null,
      "grid_template_columns": null,
      "grid_template_rows": null,
      "height": null,
      "justify_content": null,
      "justify_items": null,
      "left": null,
      "margin": null,
      "max_height": null,
      "max_width": null,
      "min_height": null,
      "min_width": null,
      "object_fit": null,
      "object_position": null,
      "order": null,
      "overflow": null,
      "overflow_x": null,
      "overflow_y": null,
      "padding": null,
      "right": null,
      "top": null,
      "visibility": null,
      "width": null
     }
    }
   }
  }
 },
 "nbformat": 4,
 "nbformat_minor": 4
}
